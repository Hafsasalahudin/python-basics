{
  "nbformat": 4,
  "nbformat_minor": 0,
  "metadata": {
    "colab": {
      "provenance": [],
      "authorship_tag": "ABX9TyPq1vbonIC7nxczjdU/JXhl",
      "include_colab_link": true
    },
    "kernelspec": {
      "name": "python3",
      "display_name": "Python 3"
    },
    "language_info": {
      "name": "python"
    }
  },
  "cells": [
    {
      "cell_type": "markdown",
      "metadata": {
        "id": "view-in-github",
        "colab_type": "text"
      },
      "source": [
        "<a href=\"https://colab.research.google.com/github/Hafsasalahudin/python-basics/blob/main/BasicPython.ipynb\" target=\"_parent\"><img src=\"https://colab.research.google.com/assets/colab-badge.svg\" alt=\"Open In Colab\"/></a>"
      ]
    },
    {
      "cell_type": "code",
      "execution_count": null,
      "metadata": {
        "id": "fHp0r9_TLqiF",
        "outputId": "45c5078f-6244-40ea-ef1e-b52780760e0a",
        "colab": {
          "base_uri": "https://localhost:8080/"
        }
      },
      "outputs": [
        {
          "output_type": "stream",
          "name": "stdout",
          "text": [
            "Apple\n",
            "20\n",
            "10.3\n"
          ]
        }
      ],
      "source": [
        "x , y , z = \"Apple\" , 20 , 10.3\n",
        "print(x)\n",
        "print(y)\n",
        "print(z)"
      ]
    },
    {
      "cell_type": "code",
      "source": [
        "def function_name(parameter):\n",
        "  block of code\n",
        "  retun\n",
        "  function call(argument)"
      ],
      "metadata": {
        "id": "4THbUQshPPMG"
      },
      "execution_count": null,
      "outputs": []
    },
    {
      "cell_type": "code",
      "source": [
        "def myfunc():\n",
        "  print(\"Hello python\")\n",
        "myfunc()"
      ],
      "metadata": {
        "id": "Qc8_eHJdiGzm",
        "outputId": "12359b5f-9f4b-42ad-d1d8-0187a8fbef01",
        "colab": {
          "base_uri": "https://localhost:8080/"
        }
      },
      "execution_count": null,
      "outputs": [
        {
          "output_type": "stream",
          "name": "stdout",
          "text": [
            "Hello python\n"
          ]
        }
      ]
    },
    {
      "cell_type": "code",
      "source": [
        "def myfunc(name):\n",
        "  print(name)\n",
        "myfunc(\"hafsa\")"
      ],
      "metadata": {
        "id": "5W6qgGW4kuyE",
        "outputId": "af6c4f3d-dcf0-473c-c935-40efdc4d3ece",
        "colab": {
          "base_uri": "https://localhost:8080/"
        }
      },
      "execution_count": null,
      "outputs": [
        {
          "output_type": "stream",
          "name": "stdout",
          "text": [
            "hafsa\n"
          ]
        }
      ]
    },
    {
      "cell_type": "code",
      "source": [
        "x=\"Hafsa\"\n",
        "print(x)"
      ],
      "metadata": {
        "id": "LnOWFxNClTMV",
        "outputId": "ed4d48b2-e356-4722-e739-877fb8ec4afd",
        "colab": {
          "base_uri": "https://localhost:8080/"
        }
      },
      "execution_count": null,
      "outputs": [
        {
          "output_type": "stream",
          "name": "stdout",
          "text": [
            "Hafsa\n"
          ]
        }
      ]
    },
    {
      "cell_type": "code",
      "source": [
        "def details(name,userid,country):\n",
        "  print(\"Name:\",name)\n",
        "  print(\"userid:\",userid)\n",
        "  print(\"country:\",country)\n",
        "details(\"SALAR\",33,\"japan\")\n"
      ],
      "metadata": {
        "id": "rGX1LG2jljTz",
        "outputId": "038a7c57-7572-4612-d4d2-f251425aacd8",
        "colab": {
          "base_uri": "https://localhost:8080/"
        }
      },
      "execution_count": null,
      "outputs": [
        {
          "output_type": "stream",
          "name": "stdout",
          "text": [
            "Name: SALAR\n",
            "userid: 33\n",
            "country: japan\n"
          ]
        }
      ]
    },
    {
      "cell_type": "code",
      "source": [
        "def square (n): #function to find square of a number\n",
        "    n= n*n\n",
        "    return n\n",
        "\n",
        "square (10)"
      ],
      "metadata": {
        "id": "xL-xgSzEnIvW",
        "outputId": "1ced473d-e08a-45e7-ed3e-ad54ab9ec91f",
        "colab": {
          "base_uri": "https://localhost:8080/"
        }
      },
      "execution_count": null,
      "outputs": [
        {
          "output_type": "execute_result",
          "data": {
            "text/plain": [
              "1000"
            ]
          },
          "metadata": {},
          "execution_count": 15
        }
      ]
    },
    {
      "cell_type": "code",
      "source": [
        "def even_odd(num):\n",
        "  \"\"\" This function will check whether a number is even or odd\"\"\"\n",
        "  if num % 2==0:\n",
        "    print ( num, \"is even number\")\n",
        "  else:\n",
        "    print(num,\"is odd number\")\n",
        "even_odd(3)\n",
        "even_odd(4)\n",
        "print(even_odd.__doc__)"
      ],
      "metadata": {
        "id": "JMeH0QsqoWKn",
        "outputId": "f3714e99-79a5-4c19-d0ee-8abc97c7f91b",
        "colab": {
          "base_uri": "https://localhost:8080/"
        }
      },
      "execution_count": null,
      "outputs": [
        {
          "output_type": "stream",
          "name": "stdout",
          "text": [
            "3 is odd number\n",
            "4 is even number\n",
            " This function will check whether a number is even or odd\n"
          ]
        }
      ]
    },
    {
      "cell_type": "code",
      "source": [
        "def swap(a,b):\n",
        "    temp=a\n",
        "    a,b=b,temp\n",
        "a=10\n",
        "b=20\n",
        "print(a,b)\n",
        "a,b\n",
        "\n"
      ],
      "metadata": {
        "id": "CmKmyh16kVxC",
        "outputId": "2eaa90d0-9ac9-4913-d6f7-05565b3b5467",
        "colab": {
          "base_uri": "https://localhost:8080/"
        }
      },
      "execution_count": null,
      "outputs": [
        {
          "output_type": "stream",
          "name": "stdout",
          "text": [
            "10 20\n"
          ]
        },
        {
          "output_type": "execute_result",
          "data": {
            "text/plain": [
              "(10, 20)"
            ]
          },
          "metadata": {},
          "execution_count": 7
        }
      ]
    },
    {
      "cell_type": "code",
      "source": [
        "x=10\n",
        "y=20\n",
        "x,y=y,x\n",
        "print(x,y)"
      ],
      "metadata": {
        "id": "J3T5sLo0mZ-Z",
        "outputId": "edd93570-3419-4d0b-eb6a-1d4b45175530",
        "colab": {
          "base_uri": "https://localhost:8080/"
        }
      },
      "execution_count": null,
      "outputs": [
        {
          "output_type": "stream",
          "name": "stdout",
          "text": [
            "20 10\n"
          ]
        }
      ]
    },
    {
      "cell_type": "code",
      "source": [
        "def factorial(num): # Calculate factorial of a number using recursive function c\n",
        " if num <=1 :\n",
        "  return 1\n",
        " else:\n",
        "   return num * factorial(num-1)\n",
        "factorial(4)"
      ],
      "metadata": {
        "id": "-pprX3aqpH9m",
        "outputId": "0aa77fda-b3e1-48ef-f926-536a07726c59",
        "colab": {
          "base_uri": "https://localhost:8080/"
        }
      },
      "execution_count": null,
      "outputs": [
        {
          "output_type": "execute_result",
          "data": {
            "text/plain": [
              "24"
            ]
          },
          "metadata": {},
          "execution_count": 2
        }
      ]
    },
    {
      "cell_type": "markdown",
      "source": [
        "# swmming natural numbers"
      ],
      "metadata": {
        "id": "WsSWY6-CwMr3"
      }
    },
    {
      "cell_type": "code",
      "source": [
        "def add(num):\n",
        "    if num == 0:\n",
        "      return 0\n",
        "    else:\n",
        "         return num + add(num-1)\n",
        "add(5)"
      ],
      "metadata": {
        "id": "Ajd2FhONp020",
        "outputId": "fab7dfea-6b0f-41ff-f4f0-a492ca42bede",
        "colab": {
          "base_uri": "https://localhost:8080/"
        }
      },
      "execution_count": null,
      "outputs": [
        {
          "output_type": "execute_result",
          "data": {
            "text/plain": [
              "15"
            ]
          },
          "metadata": {},
          "execution_count": 6
        }
      ]
    },
    {
      "cell_type": "code",
      "source": [
        "def italian_fery_series(num):\n",
        "     if num <=1:\n",
        "      return num\n",
        "     if num ==2:\n",
        "      return 1\n",
        "     else:\n",
        "      return fibaocci(num-1) + fibaocci(num-2)\n",
        "\n",
        "nums = int(input(\"How many fibonacci numbers you want to generate -\"))\n",
        "\n",
        "for i in range(nums):\n",
        "  print(fibaocci(i))"
      ],
      "metadata": {
        "id": "7_0znKNfwJCW",
        "outputId": "1a3d4de8-7af5-48fa-e03b-1290cb2d1c70",
        "colab": {
          "base_uri": "https://localhost:8080/"
        }
      },
      "execution_count": null,
      "outputs": [
        {
          "output_type": "stream",
          "name": "stdout",
          "text": [
            "How many fibonacci numbers you want to generate -10\n",
            "0\n",
            "1\n",
            "1\n",
            "2\n",
            "3\n",
            "5\n",
            "8\n",
            "13\n",
            "21\n",
            "34\n"
          ]
        }
      ]
    },
    {
      "cell_type": "code",
      "source": [
        "#break statement we use to stop the loop\n",
        "i=1\n",
        "while i<6:\n",
        "  if i==3:\n",
        "    break\n",
        "  print(i)\n",
        "  i+=1\n"
      ],
      "metadata": {
        "id": "XFPcLofDGX8W",
        "outputId": "2357e192-77bb-4f5d-c203-3a30889179eb",
        "colab": {
          "base_uri": "https://localhost:8080/"
        }
      },
      "execution_count": null,
      "outputs": [
        {
          "output_type": "stream",
          "name": "stdout",
          "text": [
            "1\n",
            "2\n"
          ]
        }
      ]
    },
    {
      "cell_type": "code",
      "source": [],
      "metadata": {
        "id": "LMKHu85Kxyn1"
      },
      "execution_count": null,
      "outputs": []
    },
    {
      "cell_type": "code",
      "source": [
        "#continue is used to skip the current loop iteration and move to next itreation\n",
        "i=0\n",
        "while i<=6:\n",
        "  i+=1\n",
        "  if i==2:\n",
        "    continue\n",
        "  print(i)"
      ],
      "metadata": {
        "id": "OKMufcibFqpY",
        "outputId": "6e7006b9-96d9-4320-c389-cc52d0254bec",
        "colab": {
          "base_uri": "https://localhost:8080/"
        }
      },
      "execution_count": null,
      "outputs": [
        {
          "output_type": "stream",
          "name": "stdout",
          "text": [
            "1\n",
            "3\n",
            "4\n",
            "5\n",
            "6\n",
            "7\n"
          ]
        }
      ]
    },
    {
      "cell_type": "code",
      "source": [
        "def my_function(*kids):\n",
        "  print(\"The youngest child is \" ,kids[0])\n",
        "\n",
        "my_function(\"Emil\", \"Tobias\", \"Linus\")\n"
      ],
      "metadata": {
        "id": "-MHE0lk2XirL",
        "outputId": "0de00d65-fc4b-4d2b-b209-095de4dcbadf",
        "colab": {
          "base_uri": "https://localhost:8080/"
        }
      },
      "execution_count": 1,
      "outputs": [
        {
          "output_type": "stream",
          "name": "stdout",
          "text": [
            "The youngest child is  Emil\n"
          ]
        }
      ]
    },
    {
      "cell_type": "code",
      "source": [
        "def my_function(child3, *child2, **child1):\n",
        "  print(\"The youngest child is \" + child3)\n",
        "\n",
        "my_function(child1 = \"Emil\", child2 = \"Tobias\", child3 = \"Linus\")"
      ],
      "metadata": {
        "id": "xGZ4UWh3XzBt",
        "outputId": "66d52bb4-c4e2-4fed-c4e3-6698d706f398",
        "colab": {
          "base_uri": "https://localhost:8080/"
        }
      },
      "execution_count": 4,
      "outputs": [
        {
          "output_type": "stream",
          "name": "stdout",
          "text": [
            "The youngest child is Linus\n"
          ]
        }
      ]
    }
  ]
}